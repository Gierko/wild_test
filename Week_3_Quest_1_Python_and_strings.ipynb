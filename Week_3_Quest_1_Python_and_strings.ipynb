{
  "nbformat": 4,
  "nbformat_minor": 0,
  "metadata": {
    "colab": {
      "name": "Week 3 - Quest 1 : Python and strings.ipynb",
      "provenance": [],
      "collapsed_sections": [],
      "include_colab_link": true
    },
    "kernelspec": {
      "name": "python3",
      "display_name": "Python 3"
    }
  },
  "cells": [
    {
      "cell_type": "markdown",
      "metadata": {
        "id": "view-in-github",
        "colab_type": "text"
      },
      "source": [
        "<a href=\"https://colab.research.google.com/github/Gierko/wild_test/blob/main/Week_3_Quest_1_Python_and_strings.ipynb\" target=\"_parent\"><img src=\"https://colab.research.google.com/assets/colab-badge.svg\" alt=\"Open In Colab\"/></a>"
      ]
    },
    {
      "cell_type": "markdown",
      "metadata": {
        "id": "LoJw-LlCTnWF"
      },
      "source": [
        "# Mission 1\n",
        "\n",
        "Create a script that uses the len method to display the length of the string named: \"string\" below.\n",
        "\n",
        "We want to count only characters, so ignore the number of spaces\n",
        ".\n",
        "\n",
        "string = \"Taumata whakatangihanga koauau o tamatea turi pukaka piki maungah oronuku pokai whenuaki tanatahu \""
      ]
    },
    {
      "cell_type": "markdown",
      "metadata": {
        "id": "TIr-RyZkQI-Q"
      },
      "source": [
        "## longer way"
      ]
    },
    {
      "cell_type": "code",
      "metadata": {
        "id": "oweHYwlm1EVo",
        "colab": {
          "base_uri": "https://localhost:8080/"
        },
        "outputId": "0713aa43-2a40-437a-d0a9-35fcc8f3871b"
      },
      "source": [
        "string = \"Taumata whakatangihanga koauau o tamatea turi pukaka piki maungah oronuku pokai whenuaki tanatahu \"\n",
        "\n",
        "def count_no_spaces(string):\n",
        "  count = 0\n",
        "  for c in string:\n",
        "    if c != ' ':\n",
        "      count += 1\n",
        "  return count\n",
        "\n",
        "count_no_spaces(string)"
      ],
      "execution_count": null,
      "outputs": [
        {
          "output_type": "execute_result",
          "data": {
            "text/plain": [
              "85"
            ]
          },
          "metadata": {
            "tags": []
          },
          "execution_count": 1
        }
      ]
    },
    {
      "cell_type": "markdown",
      "metadata": {
        "id": "n2YaeooXQOj7"
      },
      "source": [
        "## Faster way"
      ]
    },
    {
      "cell_type": "code",
      "metadata": {
        "colab": {
          "base_uri": "https://localhost:8080/"
        },
        "id": "zYXzrvwvP_BG",
        "outputId": "55e8bed6-41a8-4c06-d1eb-b484f7a5b97c"
      },
      "source": [
        "string = string.replace(\" \", \"\")\n",
        "len(string)"
      ],
      "execution_count": null,
      "outputs": [
        {
          "output_type": "execute_result",
          "data": {
            "text/plain": [
              "85"
            ]
          },
          "metadata": {
            "tags": []
          },
          "execution_count": 4
        }
      ]
    },
    {
      "cell_type": "markdown",
      "metadata": {
        "id": "J3bsGIvAT049"
      },
      "source": [
        "# Mission 2\n",
        "\n",
        "Create a script that takes a string as one parameter and a character as another parameter. Your script should return the position (starting with 1 and not 0) of all occurrences of the character within the string.\n",
        "\n",
        "For example, for the word \"hello\" and for the character \"o\", the script will return :\n",
        "- \"position : 5\""
      ]
    },
    {
      "cell_type": "code",
      "metadata": {
        "id": "Fy1OmPSUXNaP",
        "colab": {
          "base_uri": "https://localhost:8080/"
        },
        "outputId": "a94ac6b3-c6cf-4ef2-c6ff-27ab3e299b0f"
      },
      "source": [
        "def position(string, char):\n",
        "  pos = []\n",
        "  for i,b in enumerate(string):\n",
        "    if b == char:\n",
        "      pos += [i + 1]\n",
        "  return pos\n",
        "\n",
        "result = position(\"hello\", \"l\")\n",
        "\n",
        "for i in result:\n",
        "  print(f\"position : {i}\")"
      ],
      "execution_count": null,
      "outputs": [
        {
          "output_type": "stream",
          "text": [
            "position : 3\n",
            "position : 4\n"
          ],
          "name": "stdout"
        }
      ]
    },
    {
      "cell_type": "markdown",
      "metadata": {
        "id": "dVl36lvlWLdV"
      },
      "source": [
        "# Mission 3\n",
        "\n",
        "Create a script that only displays a particular part of a string it receives. In other words, make it so that you are able to decide the exact character range (e.g. 2nd to 5th character) to be displayed."
      ]
    },
    {
      "cell_type": "code",
      "metadata": {
        "id": "pN3_mD4YSPfb",
        "colab": {
          "base_uri": "https://localhost:8080/"
        },
        "outputId": "44187d9a-7b87-43ef-880e-d4888e1703e0"
      },
      "source": [
        "def display_string_from_begin_to_end(chaine, begin, end):\n",
        "    # for i in range(begin, end):\n",
        "    #     print(chaine[i], end='')\n",
        "    print(chaine[begin:end])\n",
        "\n",
        "string = \"Taumata whakatangihanga koauau o tamatea turi pukaka piki maungah oronuku pokai whenuaki tanatahu \"\n",
        "display_string_from_begin_to_end(string, 8, 74)"
      ],
      "execution_count": null,
      "outputs": [
        {
          "output_type": "stream",
          "text": [
            "whakatangihanga koauau o tamatea turi pukaka piki maungah oronuku \n"
          ],
          "name": "stdout"
        }
      ]
    },
    {
      "cell_type": "markdown",
      "metadata": {
        "id": "GCvpkWzXXPTf"
      },
      "source": [
        "# Mission 4\n",
        "\n",
        "Find 3 ways to return the following string without including the spaces at the beginning and the end: \" Data Analyst \"."
      ]
    },
    {
      "cell_type": "code",
      "metadata": {
        "id": "QjLMjogySPk_",
        "colab": {
          "base_uri": "https://localhost:8080/",
          "height": 69
        },
        "outputId": "2403b2ab-9a0e-4ed5-ed92-b0ae2a265d4f"
      },
      "source": [
        "def function_1(string):\n",
        "    result = string.split(' ')\n",
        "    print(result)\n",
        "    result_without_space = [s for s in result if len(s) != 0]\n",
        "    print(result_without_space)\n",
        "    string = ' '.join(result_without_space)\n",
        "    return string\n",
        "\n",
        "function_1(\" Data Analyst \")"
      ],
      "execution_count": null,
      "outputs": [
        {
          "output_type": "stream",
          "text": [
            "['', 'Data', 'Analyst', '']\n",
            "['Data', 'Analyst']\n"
          ],
          "name": "stdout"
        },
        {
          "output_type": "execute_result",
          "data": {
            "application/vnd.google.colaboratory.intrinsic+json": {
              "type": "string"
            },
            "text/plain": [
              "'Data Analyst'"
            ]
          },
          "metadata": {
            "tags": []
          },
          "execution_count": 21
        }
      ]
    },
    {
      "cell_type": "code",
      "metadata": {
        "colab": {
          "base_uri": "https://localhost:8080/"
        },
        "id": "giE4MlrwT2jh",
        "outputId": "a97e7e18-a816-41d6-fe05-8d47483bda61"
      },
      "source": [
        "def function_2(string):\n",
        "    return string[1:-1]\n",
        "\n",
        "print(function_2(\" Data Analyst \"))"
      ],
      "execution_count": null,
      "outputs": [
        {
          "output_type": "stream",
          "text": [
            "Data Analyst\n"
          ],
          "name": "stdout"
        }
      ]
    },
    {
      "cell_type": "code",
      "metadata": {
        "colab": {
          "base_uri": "https://localhost:8080/"
        },
        "id": "_B0w0-jvURBb",
        "outputId": "b0d177c4-42cf-4633-f7b6-0144b591cc34"
      },
      "source": [
        "def function_3(string):\n",
        "    return string.strip()\n",
        "\n",
        "print(function_2(\" Data Analyst \"))"
      ],
      "execution_count": null,
      "outputs": [
        {
          "output_type": "stream",
          "text": [
            "Data Analyst\n"
          ],
          "name": "stdout"
        }
      ]
    },
    {
      "cell_type": "code",
      "metadata": {
        "colab": {
          "base_uri": "https://localhost:8080/"
        },
        "id": "HD6ttYyQUhQE",
        "outputId": "8c6d3cb9-eca5-4a24-a4b7-8441ca9d6085"
      },
      "source": [
        "string = \" Data Analyst \"\n",
        "print(' '.join([s for s in string.split(' ') if len(s) > 0]))"
      ],
      "execution_count": null,
      "outputs": [
        {
          "output_type": "stream",
          "text": [
            "Data Analyst\n"
          ],
          "name": "stdout"
        }
      ]
    },
    {
      "cell_type": "markdown",
      "metadata": {
        "id": "V8ZS3aECXvuZ"
      },
      "source": [
        "# Mission 5\n",
        "\n",
        "Create a script that converts all vowels to uppercase and all consonants to lowercase."
      ]
    },
    {
      "cell_type": "code",
      "metadata": {
        "id": "ph_j97PoSPmU",
        "colab": {
          "base_uri": "https://localhost:8080/"
        },
        "outputId": "489cbda6-5d72-4064-dd6b-b37865a7ca31"
      },
      "source": [
        "def transform_string(string):\n",
        "    s = ''\n",
        "    vowels = ['a', 'e', 'i', 'u','o', 'y', 'A', 'E', 'I', 'U', 'O', 'Y']\n",
        "    for c in string:\n",
        "        if c in vowels :\n",
        "            s = s + c.upper()\n",
        "        else :\n",
        "            s = s + c.lower()\n",
        "    return s\n",
        "\n",
        "string = \"Taumata whakatangihanga koauau o tamatea turi pukaka piki maungah oronuku pokai whenuaki tanatahu \"\n",
        "print(transform_string(string))"
      ],
      "execution_count": null,
      "outputs": [
        {
          "output_type": "stream",
          "text": [
            "tAUmAtA whAkAtAngIhAngA kOAUAU O tAmAtEA tUrI pUkAkA pIkI mAUngAh OrOnUkU pOkAI whEnUAkI tAnAtAhU \n"
          ],
          "name": "stdout"
        }
      ]
    },
    {
      "cell_type": "markdown",
      "metadata": {
        "id": "geMLdrvAYHKx"
      },
      "source": [
        "# Mission 6\n",
        "\n",
        "Create a script that replaces one character with another and redisplays the modified string."
      ]
    },
    {
      "cell_type": "code",
      "metadata": {
        "id": "1-cenx3RSPpq",
        "colab": {
          "base_uri": "https://localhost:8080/"
        },
        "outputId": "21a9562e-c6ac-4d38-93f6-fe1585abeab9"
      },
      "source": [
        "def replace_character(chaine, c1, c2):\n",
        "    s = ''\n",
        "    for c in chaine:\n",
        "        if c != c1:\n",
        "            # on recopie le caractère\n",
        "            s += c\n",
        "        else: # c == c1\n",
        "            # on remplace le caractère\n",
        "            s += c2\n",
        "    print(s)\n",
        "\n",
        "string = \"Taumata whakatangihanga koauau o tamatea turi pukaka piki maungah oronuku pokai whenuaki tanatahu \"\n",
        "replace_character(string, 'a', '$')"
      ],
      "execution_count": null,
      "outputs": [
        {
          "output_type": "stream",
          "text": [
            "T$um$t$ wh$k$t$ngih$ng$ ko$u$u o t$m$te$ turi puk$k$ piki m$ung$h oronuku pok$i whenu$ki t$n$t$hu \n"
          ],
          "name": "stdout"
        }
      ]
    },
    {
      "cell_type": "code",
      "metadata": {
        "colab": {
          "base_uri": "https://localhost:8080/",
          "height": 35
        },
        "id": "8EaRagJfQM6o",
        "outputId": "a26e7f8f-2938-417c-927a-0c58f45c93c8"
      },
      "source": [
        "def replace(string, char_1, char_2):\n",
        "  s = ''\n",
        "  for i in string:\n",
        "    if i == char_1:\n",
        "      string = string.replace(char_1, char_2)\n",
        "  return string\n",
        "\n",
        "replace(string, 'a', '$')"
      ],
      "execution_count": null,
      "outputs": [
        {
          "output_type": "execute_result",
          "data": {
            "application/vnd.google.colaboratory.intrinsic+json": {
              "type": "string"
            },
            "text/plain": [
              "'T$um$t$ wh$k$t$ngih$ng$ ko$u$u o t$m$te$ turi puk$k$ piki m$ung$h oronuku pok$i whenu$ki t$n$t$hu '"
            ]
          },
          "metadata": {
            "tags": []
          },
          "execution_count": 33
        }
      ]
    },
    {
      "cell_type": "code",
      "metadata": {
        "id": "picJlAnyWc-h"
      },
      "source": [
        ""
      ],
      "execution_count": null,
      "outputs": []
    }
  ]
}